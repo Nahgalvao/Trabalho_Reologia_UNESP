{
  "nbformat": 4,
  "nbformat_minor": 0,
  "metadata": {
    "colab": {
      "provenance": [],
      "authorship_tag": "ABX9TyOmjM5nhhkWHHh3J3aTyFbs",
      "include_colab_link": true
    },
    "kernelspec": {
      "name": "python3",
      "display_name": "Python 3"
    },
    "language_info": {
      "name": "python"
    }
  },
  "cells": [
    {
      "cell_type": "markdown",
      "metadata": {
        "id": "view-in-github",
        "colab_type": "text"
      },
      "source": [
        "<a href=\"https://colab.research.google.com/github/Nahgalvao/Trabalho_Reologia_UNESP/blob/main/Reologia_1.ipynb\" target=\"_parent\"><img src=\"https://colab.research.google.com/assets/colab-badge.svg\" alt=\"Open In Colab\"/></a>"
      ]
    },
    {
      "cell_type": "markdown",
      "source": [
        "#Funções:"
      ],
      "metadata": {
        "id": "acmD0Y4KfCOQ"
      }
    },
    {
      "cell_type": "markdown",
      "source": [
        "* Calcular propriedades:\n"
      ],
      "metadata": {
        "id": "_h9PUiPrcY_0"
      }
    },
    {
      "cell_type": "code",
      "source": [
        "import math"
      ],
      "metadata": {
        "id": "P_3smZHJa8XR"
      },
      "execution_count": null,
      "outputs": []
    },
    {
      "cell_type": "markdown",
      "source": [
        "* Conta o logaritmo natural de um número:"
      ],
      "metadata": {
        "id": "rZf0dOL3cQCj"
      }
    },
    {
      "cell_type": "code",
      "source": [
        "def lnx (x):\n",
        "    lnx=math.log(x)\n",
        "    return(lnx)"
      ],
      "metadata": {
        "id": "Ki_iMjlNcH-w"
      },
      "execution_count": null,
      "outputs": []
    },
    {
      "cell_type": "markdown",
      "source": [
        "* Conta o logaritmo natural de uma lista:"
      ],
      "metadata": {
        "id": "btJ59k3PciOH"
      }
    },
    {
      "cell_type": "code",
      "source": [
        "def lnlist (x):\n",
        "    lnxl=[]\n",
        "    for i in range(0, len(x)):\n",
        "        lnxl.append(math.log(x[i]))\n",
        "    return(lnxl)"
      ],
      "metadata": {
        "id": "5FxJCf7ecH46"
      },
      "execution_count": null,
      "outputs": []
    },
    {
      "cell_type": "markdown",
      "source": [
        "* Multiplicação das listas:"
      ],
      "metadata": {
        "id": "4MNilYXMcq7d"
      }
    },
    {
      "cell_type": "code",
      "source": [
        "def multlist (x,y):\n",
        "    xy=[]\n",
        "    for i in range(0, len(x)):\n",
        "        xy.append(x[i]*y[i])\n",
        "    return(xy)"
      ],
      "metadata": {
        "id": "jKkzi7amcHzA"
      },
      "execution_count": null,
      "outputs": []
    },
    {
      "cell_type": "markdown",
      "source": [
        "* Somando os valores da lista:"
      ],
      "metadata": {
        "id": "2-G7zsA7c_MW"
      }
    },
    {
      "cell_type": "code",
      "source": [
        "def listsum (x):\n",
        "    sx=sum(x)\n",
        "    return (sx)"
      ],
      "metadata": {
        "id": "41ezSChhcHtg"
      },
      "execution_count": null,
      "outputs": []
    },
    {
      "cell_type": "markdown",
      "source": [
        "* Quadratura de cada palavra da lista:"
      ],
      "metadata": {
        "id": "pEGuBqt4dFJg"
      }
    },
    {
      "cell_type": "code",
      "source": [
        "def listexp (x):\n",
        "    expl=[]\n",
        "    for i in range(len(x)):\n",
        "        expl.append(x[i] ** 2)\n",
        "    return(expl)"
      ],
      "metadata": {
        "id": "Zoo4ggHYcHkI"
      },
      "execution_count": null,
      "outputs": []
    },
    {
      "cell_type": "markdown",
      "source": [
        "* Conta a raiz quadrada de um número:"
      ],
      "metadata": {
        "id": "1kGGOpaJdNjh"
      }
    },
    {
      "cell_type": "code",
      "source": [
        "def sqrtx (x):\n",
        "    sqrtx=math.sqrt(x)\n",
        "    return(sqrtx)"
      ],
      "metadata": {
        "id": "4CYJKU1GdWVo"
      },
      "execution_count": null,
      "outputs": []
    },
    {
      "cell_type": "markdown",
      "source": [
        "* Conta a raiz quadrada de cada número da lista:"
      ],
      "metadata": {
        "id": "7Ct-FH0Xdd2u"
      }
    },
    {
      "cell_type": "code",
      "source": [
        "def sqrtlist (x):\n",
        "    sqrx=[]\n",
        "    for i in range(0, len(x)):\n",
        "        sqrx.append(math.sqrt(x[i]))\n",
        "    return(sqrx)"
      ],
      "metadata": {
        "id": "rHtF9ZmOdWMQ"
      },
      "execution_count": null,
      "outputs": []
    },
    {
      "cell_type": "markdown",
      "source": [
        "* Eleva cada elemento da lista à potência de 2:"
      ],
      "metadata": {
        "id": "TcixiuLxdp76"
      }
    },
    {
      "cell_type": "code",
      "source": [
        "def multlita (x):\n",
        "    mx=[]\n",
        "    for i in range (len(x)):\n",
        "        mx.append (x[i]**2)\n",
        "    return(mx)"
      ],
      "metadata": {
        "id": "V2YKcqVxdWC_"
      },
      "execution_count": null,
      "outputs": []
    },
    {
      "cell_type": "markdown",
      "source": [
        "* Exponenciais:"
      ],
      "metadata": {
        "id": "iedGdzvdd108"
      }
    },
    {
      "cell_type": "code",
      "source": [
        "def explist (x):\n",
        "    ex =[]\n",
        "    for i in range (len(x)):\n",
        "        ex.append (math.exp(x[i]))\n",
        "    return (ex)"
      ],
      "metadata": {
        "id": "kcLIT5JWdV39"
      },
      "execution_count": null,
      "outputs": []
    },
    {
      "cell_type": "markdown",
      "source": [
        "* Subtrai palavras individuais de listas:"
      ],
      "metadata": {
        "id": "16RisiJGeFx4"
      }
    },
    {
      "cell_type": "code",
      "source": [
        "def minuslist (x,y):\n",
        "    mx = []\n",
        "    for i in range(0, len(x)):\n",
        "        mx.append(x[i] - y[i])\n",
        "    return(mx)"
      ],
      "metadata": {
        "id": "uAAetVE8eE7V"
      },
      "execution_count": null,
      "outputs": []
    },
    {
      "cell_type": "markdown",
      "source": [
        "* Subtrai um número de cada número da lista:"
      ],
      "metadata": {
        "id": "bSF0dmSdeR9a"
      }
    },
    {
      "cell_type": "code",
      "source": [
        "def mlist(x,y):\n",
        "    mx = []\n",
        "    for i in range(0, len(x)):\n",
        "        mx.append(x[i] - y)\n",
        "    return(mx)"
      ],
      "metadata": {
        "id": "Ry56rtoieEz9"
      },
      "execution_count": null,
      "outputs": []
    },
    {
      "cell_type": "code",
      "source": [
        "def test(x):\n",
        "    ang=[]\n",
        "    for i in range(0,len(x)):\n",
        "       ang = int(x[i])\n",
        "    return ang"
      ],
      "metadata": {
        "id": "jTZsnu5wejVG"
      },
      "execution_count": null,
      "outputs": []
    },
    {
      "cell_type": "markdown",
      "source": [
        "#Reometria"
      ],
      "metadata": {
        "id": "kYn81OAmflWY"
      }
    },
    {
      "cell_type": "code",
      "source": [
        "pip install google-colab"
      ],
      "metadata": {
        "colab": {
          "base_uri": "https://localhost:8080/"
        },
        "id": "yGpbf9mxzStT",
        "outputId": "6d69624b-c3b6-4f4e-d20c-a80f4a51de8d"
      },
      "execution_count": null,
      "outputs": [
        {
          "output_type": "stream",
          "name": "stdout",
          "text": [
            "Looking in indexes: https://pypi.org/simple, https://us-python.pkg.dev/colab-wheels/public/simple/\n",
            "Requirement already satisfied: google-colab in /usr/local/lib/python3.10/dist-packages (1.0.0)\n",
            "Requirement already satisfied: google-auth==2.17.3 in /usr/local/lib/python3.10/dist-packages (from google-colab) (2.17.3)\n",
            "Requirement already satisfied: ipykernel==5.5.6 in /usr/local/lib/python3.10/dist-packages (from google-colab) (5.5.6)\n",
            "Requirement already satisfied: ipython==7.34.0 in /usr/local/lib/python3.10/dist-packages (from google-colab) (7.34.0)\n",
            "Requirement already satisfied: notebook==6.4.8 in /usr/local/lib/python3.10/dist-packages (from google-colab) (6.4.8)\n",
            "Requirement already satisfied: pandas==1.5.3 in /usr/local/lib/python3.10/dist-packages (from google-colab) (1.5.3)\n",
            "Requirement already satisfied: portpicker==1.3.9 in /usr/local/lib/python3.10/dist-packages (from google-colab) (1.3.9)\n",
            "Requirement already satisfied: requests==2.27.1 in /usr/local/lib/python3.10/dist-packages (from google-colab) (2.27.1)\n",
            "Requirement already satisfied: tornado==6.3.1 in /usr/local/lib/python3.10/dist-packages (from google-colab) (6.3.1)\n",
            "Requirement already satisfied: cachetools<6.0,>=2.0.0 in /usr/local/lib/python3.10/dist-packages (from google-auth==2.17.3->google-colab) (5.3.1)\n",
            "Requirement already satisfied: pyasn1-modules>=0.2.1 in /usr/local/lib/python3.10/dist-packages (from google-auth==2.17.3->google-colab) (0.3.0)\n",
            "Requirement already satisfied: six>=1.9.0 in /usr/local/lib/python3.10/dist-packages (from google-auth==2.17.3->google-colab) (1.16.0)\n",
            "Requirement already satisfied: rsa<5,>=3.1.4 in /usr/local/lib/python3.10/dist-packages (from google-auth==2.17.3->google-colab) (4.9)\n",
            "Requirement already satisfied: ipython-genutils in /usr/local/lib/python3.10/dist-packages (from ipykernel==5.5.6->google-colab) (0.2.0)\n",
            "Requirement already satisfied: traitlets>=4.1.0 in /usr/local/lib/python3.10/dist-packages (from ipykernel==5.5.6->google-colab) (5.7.1)\n",
            "Requirement already satisfied: jupyter-client in /usr/local/lib/python3.10/dist-packages (from ipykernel==5.5.6->google-colab) (6.1.12)\n",
            "Requirement already satisfied: setuptools>=18.5 in /usr/local/lib/python3.10/dist-packages (from ipython==7.34.0->google-colab) (67.7.2)\n",
            "Requirement already satisfied: jedi>=0.16 in /usr/local/lib/python3.10/dist-packages (from ipython==7.34.0->google-colab) (0.18.2)\n",
            "Requirement already satisfied: decorator in /usr/local/lib/python3.10/dist-packages (from ipython==7.34.0->google-colab) (4.4.2)\n",
            "Requirement already satisfied: pickleshare in /usr/local/lib/python3.10/dist-packages (from ipython==7.34.0->google-colab) (0.7.5)\n",
            "Requirement already satisfied: prompt-toolkit!=3.0.0,!=3.0.1,<3.1.0,>=2.0.0 in /usr/local/lib/python3.10/dist-packages (from ipython==7.34.0->google-colab) (3.0.38)\n",
            "Requirement already satisfied: pygments in /usr/local/lib/python3.10/dist-packages (from ipython==7.34.0->google-colab) (2.14.0)\n",
            "Requirement already satisfied: backcall in /usr/local/lib/python3.10/dist-packages (from ipython==7.34.0->google-colab) (0.2.0)\n",
            "Requirement already satisfied: matplotlib-inline in /usr/local/lib/python3.10/dist-packages (from ipython==7.34.0->google-colab) (0.1.6)\n",
            "Requirement already satisfied: pexpect>4.3 in /usr/local/lib/python3.10/dist-packages (from ipython==7.34.0->google-colab) (4.8.0)\n",
            "Requirement already satisfied: jinja2 in /usr/local/lib/python3.10/dist-packages (from notebook==6.4.8->google-colab) (3.1.2)\n",
            "Requirement already satisfied: pyzmq>=17 in /usr/local/lib/python3.10/dist-packages (from notebook==6.4.8->google-colab) (23.2.1)\n",
            "Requirement already satisfied: argon2-cffi in /usr/local/lib/python3.10/dist-packages (from notebook==6.4.8->google-colab) (21.3.0)\n",
            "Requirement already satisfied: jupyter-core>=4.6.1 in /usr/local/lib/python3.10/dist-packages (from notebook==6.4.8->google-colab) (5.3.1)\n",
            "Requirement already satisfied: nbformat in /usr/local/lib/python3.10/dist-packages (from notebook==6.4.8->google-colab) (5.9.0)\n",
            "Requirement already satisfied: nbconvert in /usr/local/lib/python3.10/dist-packages (from notebook==6.4.8->google-colab) (6.5.4)\n",
            "Requirement already satisfied: nest-asyncio>=1.5 in /usr/local/lib/python3.10/dist-packages (from notebook==6.4.8->google-colab) (1.5.6)\n",
            "Requirement already satisfied: Send2Trash>=1.8.0 in /usr/local/lib/python3.10/dist-packages (from notebook==6.4.8->google-colab) (1.8.2)\n",
            "Requirement already satisfied: terminado>=0.8.3 in /usr/local/lib/python3.10/dist-packages (from notebook==6.4.8->google-colab) (0.17.1)\n",
            "Requirement already satisfied: prometheus-client in /usr/local/lib/python3.10/dist-packages (from notebook==6.4.8->google-colab) (0.17.0)\n",
            "Requirement already satisfied: python-dateutil>=2.8.1 in /usr/local/lib/python3.10/dist-packages (from pandas==1.5.3->google-colab) (2.8.2)\n",
            "Requirement already satisfied: pytz>=2020.1 in /usr/local/lib/python3.10/dist-packages (from pandas==1.5.3->google-colab) (2022.7.1)\n",
            "Requirement already satisfied: numpy>=1.21.0 in /usr/local/lib/python3.10/dist-packages (from pandas==1.5.3->google-colab) (1.22.4)\n",
            "Requirement already satisfied: urllib3<1.27,>=1.21.1 in /usr/local/lib/python3.10/dist-packages (from requests==2.27.1->google-colab) (1.26.16)\n",
            "Requirement already satisfied: certifi>=2017.4.17 in /usr/local/lib/python3.10/dist-packages (from requests==2.27.1->google-colab) (2023.5.7)\n",
            "Requirement already satisfied: charset-normalizer~=2.0.0 in /usr/local/lib/python3.10/dist-packages (from requests==2.27.1->google-colab) (2.0.12)\n",
            "Requirement already satisfied: idna<4,>=2.5 in /usr/local/lib/python3.10/dist-packages (from requests==2.27.1->google-colab) (3.4)\n",
            "Requirement already satisfied: parso<0.9.0,>=0.8.0 in /usr/local/lib/python3.10/dist-packages (from jedi>=0.16->ipython==7.34.0->google-colab) (0.8.3)\n",
            "Requirement already satisfied: platformdirs>=2.5 in /usr/local/lib/python3.10/dist-packages (from jupyter-core>=4.6.1->notebook==6.4.8->google-colab) (3.7.0)\n",
            "Requirement already satisfied: ptyprocess>=0.5 in /usr/local/lib/python3.10/dist-packages (from pexpect>4.3->ipython==7.34.0->google-colab) (0.7.0)\n",
            "Requirement already satisfied: wcwidth in /usr/local/lib/python3.10/dist-packages (from prompt-toolkit!=3.0.0,!=3.0.1,<3.1.0,>=2.0.0->ipython==7.34.0->google-colab) (0.2.6)\n",
            "Requirement already satisfied: pyasn1<0.6.0,>=0.4.6 in /usr/local/lib/python3.10/dist-packages (from pyasn1-modules>=0.2.1->google-auth==2.17.3->google-colab) (0.5.0)\n",
            "Requirement already satisfied: argon2-cffi-bindings in /usr/local/lib/python3.10/dist-packages (from argon2-cffi->notebook==6.4.8->google-colab) (21.2.0)\n",
            "Requirement already satisfied: MarkupSafe>=2.0 in /usr/local/lib/python3.10/dist-packages (from jinja2->notebook==6.4.8->google-colab) (2.1.3)\n",
            "Requirement already satisfied: lxml in /usr/local/lib/python3.10/dist-packages (from nbconvert->notebook==6.4.8->google-colab) (4.9.2)\n",
            "Requirement already satisfied: beautifulsoup4 in /usr/local/lib/python3.10/dist-packages (from nbconvert->notebook==6.4.8->google-colab) (4.11.2)\n",
            "Requirement already satisfied: bleach in /usr/local/lib/python3.10/dist-packages (from nbconvert->notebook==6.4.8->google-colab) (6.0.0)\n",
            "Requirement already satisfied: defusedxml in /usr/local/lib/python3.10/dist-packages (from nbconvert->notebook==6.4.8->google-colab) (0.7.1)\n",
            "Requirement already satisfied: entrypoints>=0.2.2 in /usr/local/lib/python3.10/dist-packages (from nbconvert->notebook==6.4.8->google-colab) (0.4)\n",
            "Requirement already satisfied: jupyterlab-pygments in /usr/local/lib/python3.10/dist-packages (from nbconvert->notebook==6.4.8->google-colab) (0.2.2)\n",
            "Requirement already satisfied: mistune<2,>=0.8.1 in /usr/local/lib/python3.10/dist-packages (from nbconvert->notebook==6.4.8->google-colab) (0.8.4)\n",
            "Requirement already satisfied: nbclient>=0.5.0 in /usr/local/lib/python3.10/dist-packages (from nbconvert->notebook==6.4.8->google-colab) (0.8.0)\n",
            "Requirement already satisfied: packaging in /usr/local/lib/python3.10/dist-packages (from nbconvert->notebook==6.4.8->google-colab) (23.1)\n",
            "Requirement already satisfied: pandocfilters>=1.4.1 in /usr/local/lib/python3.10/dist-packages (from nbconvert->notebook==6.4.8->google-colab) (1.5.0)\n",
            "Requirement already satisfied: tinycss2 in /usr/local/lib/python3.10/dist-packages (from nbconvert->notebook==6.4.8->google-colab) (1.2.1)\n",
            "Requirement already satisfied: fastjsonschema in /usr/local/lib/python3.10/dist-packages (from nbformat->notebook==6.4.8->google-colab) (2.17.1)\n",
            "Requirement already satisfied: jsonschema>=2.6 in /usr/local/lib/python3.10/dist-packages (from nbformat->notebook==6.4.8->google-colab) (4.3.3)\n",
            "Requirement already satisfied: attrs>=17.4.0 in /usr/local/lib/python3.10/dist-packages (from jsonschema>=2.6->nbformat->notebook==6.4.8->google-colab) (23.1.0)\n",
            "Requirement already satisfied: pyrsistent!=0.17.0,!=0.17.1,!=0.17.2,>=0.14.0 in /usr/local/lib/python3.10/dist-packages (from jsonschema>=2.6->nbformat->notebook==6.4.8->google-colab) (0.19.3)\n",
            "Requirement already satisfied: cffi>=1.0.1 in /usr/local/lib/python3.10/dist-packages (from argon2-cffi-bindings->argon2-cffi->notebook==6.4.8->google-colab) (1.15.1)\n",
            "Requirement already satisfied: soupsieve>1.2 in /usr/local/lib/python3.10/dist-packages (from beautifulsoup4->nbconvert->notebook==6.4.8->google-colab) (2.4.1)\n",
            "Requirement already satisfied: webencodings in /usr/local/lib/python3.10/dist-packages (from bleach->nbconvert->notebook==6.4.8->google-colab) (0.5.1)\n",
            "Requirement already satisfied: pycparser in /usr/local/lib/python3.10/dist-packages (from cffi>=1.0.1->argon2-cffi-bindings->argon2-cffi->notebook==6.4.8->google-colab) (2.21)\n"
          ]
        }
      ]
    },
    {
      "cell_type": "code",
      "source": [
        "import numpy as np\n",
        "import matplotlib.pyplot as plt\n",
        "%matplotlib inline"
      ],
      "metadata": {
        "id": "3nz-Drcm0fDx"
      },
      "execution_count": null,
      "outputs": []
    },
    {
      "cell_type": "code",
      "source": [
        "import pydot"
      ],
      "metadata": {
        "id": "UnY_2Ska0m5A"
      },
      "execution_count": null,
      "outputs": []
    },
    {
      "cell_type": "code",
      "execution_count": null,
      "metadata": {
        "id": "8vwdDxQOuqDX"
      },
      "outputs": [],
      "source": [
        "import math\n",
        "import numpy\n",
        "import plotly.graph_objs as go\n",
        "import plotly.offline as opy\n",
        "import scipy.optimize as optimize"
      ]
    },
    {
      "cell_type": "code",
      "source": [
        "from . import funções as fnct    #como importar as funcoes colocadas anteriormente?"
      ],
      "metadata": {
        "colab": {
          "base_uri": "https://localhost:8080/",
          "height": 305
        },
        "id": "t-9qvVLNfr2O",
        "outputId": "a7eb0bbf-afcc-4e99-f22f-a087adeccef8"
      },
      "execution_count": null,
      "outputs": [
        {
          "output_type": "error",
          "ename": "ImportError",
          "evalue": "ignored",
          "traceback": [
            "\u001b[0;31m---------------------------------------------------------------------------\u001b[0m",
            "\u001b[0;31mImportError\u001b[0m                               Traceback (most recent call last)",
            "\u001b[0;32m<ipython-input-4-1741e7312afc>\u001b[0m in \u001b[0;36m<cell line: 1>\u001b[0;34m()\u001b[0m\n\u001b[0;32m----> 1\u001b[0;31m \u001b[0;32mfrom\u001b[0m \u001b[0;34m.\u001b[0m \u001b[0;32mimport\u001b[0m \u001b[0mfunções\u001b[0m \u001b[0;32mas\u001b[0m \u001b[0mfnct\u001b[0m    \u001b[0;31m#como importar as funcoes colocadas anteriormente?\u001b[0m\u001b[0;34m\u001b[0m\u001b[0;34m\u001b[0m\u001b[0m\n\u001b[0m",
            "\u001b[0;31mImportError\u001b[0m: attempted relative import with no known parent package",
            "",
            "\u001b[0;31m---------------------------------------------------------------------------\u001b[0;32m\nNOTE: If your import is failing due to a missing package, you can\nmanually install dependencies using either !pip or !apt.\n\nTo view examples of installing some common dependencies, click the\n\"Open Examples\" button below.\n\u001b[0;31m---------------------------------------------------------------------------\u001b[0m\n"
          ],
          "errorDetails": {
            "actions": [
              {
                "action": "open_url",
                "actionText": "Open Examples",
                "url": "/notebooks/snippets/importing_libraries.ipynb"
              }
            ]
          }
        }
      ]
    },
    {
      "cell_type": "code",
      "source": [
        "class REO:\n",
        "    def __init__(self,kat,typ,sprężyna,Rotor_Bob):\n",
        "        self.kat = kat\n",
        "        self.typ = typ\n",
        "        self.sprężyna = sprężyna\n",
        "        self.Rotor_Bob = Rotor_Bob\n",
        "        self.obr = []\n",
        "        self.yl = []\n",
        "        self.ks = []\n",
        "        self.ns = []\n",
        "        self.t = []\n",
        "        self.y = []\n",
        "        self.f = []\n",
        "        self.l=[]\n",
        "        self.mn = []\n",
        "        self.lb =[]\n",
        "        self.ty = []\n",
        "        self.mb = []\n",
        "        self.no =[]\n",
        "        self.k = []\n",
        "        self.modw = []\n",
        "        self.fcas = []\n",
        "        self.tyc = []\n",
        "        self.modc = []\n",
        "        self.n =[]\n",
        "        self.khb = []\n",
        "        self.tyhb =[]\n",
        "        self.modhb = []\n",
        "        self.RN = []\n",
        "        self.RB = []\n",
        "        self.Rodw = []\n",
        "        self.RC = []\n",
        "        self.Rhb = []"
      ],
      "metadata": {
        "id": "UkTgKTGKu1u3"
      },
      "execution_count": null,
      "outputs": []
    },
    {
      "cell_type": "code",
      "source": [
        "    def obroty(self):\n",
        "        if len(self.kat) == 6:\n",
        "            self.obr = [3, 6, 100, 200, 300, 600]\n",
        "        elif len(self.kat) == 12:\n",
        "            self.obr = [1, 2, 3, 6, 10, 20, 30, 60, 100, 200, 300, 600]\n",
        "        else:print('Error')\n",
        "        return self.obr"
      ],
      "metadata": {
        "id": "zhv2X1SRvFvh"
      },
      "execution_count": null,
      "outputs": []
    },
    {
      "cell_type": "markdown",
      "source": [
        "\n",
        "\n",
        "*  Taxa de cisalhamento de resistência:\n",
        "\n",
        "\n"
      ],
      "metadata": {
        "id": "1_DDhDiU345b"
      }
    },
    {
      "cell_type": "code",
      "source": [
        "    def szybkosc_scinania_rz(self):\n",
        "        if self.typ == 1:\n",
        "            self.yl = 1.7034\n",
        "        elif self.typ == 2:\n",
        "            self.yl = 0.3769\n",
        "        elif self.typ == 3:\n",
        "            self.yl = 0.2682\n",
        "        elif self.typ == 4:\n",
        "            self.yl = 5.4106\n",
        "        elif self.typ == 5:\n",
        "            self.yl =0.40865\n",
        "        elif self.typ == 6:\n",
        "            self.yl = 0.27589\n",
        "        elif self.typ == 7:\n",
        "            self.yl = 0.37723\n",
        "        elif self.typ == 8:\n",
        "            self.yl = 0.27052\n",
        "        elif self.typ == 9:\n",
        "            self.yl = 0.23579\n",
        "        elif self.typ == 10:\n",
        "            self.yl = 0.23579\n",
        "        return self.yl"
      ],
      "metadata": {
        "id": "uv8REmsH1H2X"
      },
      "execution_count": null,
      "outputs": []
    },
    {
      "cell_type": "markdown",
      "source": [
        "\n",
        "\n",
        "*  Tensão Constante:\n",
        "\n",
        "\n"
      ],
      "metadata": {
        "id": "V2jveJaF4BIY"
      }
    },
    {
      "cell_type": "code",
      "source": [
        "    def stala_spr(self):\n",
        "        if self.voltage == 1:\n",
        "            self.ks = 0.2\n",
        "        if self.voltage == 2:\n",
        "            self.ks = 0.5\n",
        "        if self.voltage == 3:\n",
        "            self.ks = 1\n",
        "        if self.voltage == 4:\n",
        "            self.ks = 2\n",
        "        if self.voltage == 5:\n",
        "            self.ks = 3\n",
        "        if self.voltage == 6:\n",
        "            self.ks = 10\n",
        "        return self.ks"
      ],
      "metadata": {
        "id": "PAoBNq891d2U"
      },
      "execution_count": null,
      "outputs": []
    },
    {
      "cell_type": "markdown",
      "source": [
        "\n",
        "\n",
        "*   Seleção do tipo de cilindro:\n",
        "\n",
        "\n"
      ],
      "metadata": {
        "id": "j7pzM4te4GSp"
      }
    },
    {
      "cell_type": "code",
      "source": [
        "    def rodzaj_cilindra(self):\n",
        "        if self.Rotor_Bob == 1:\n",
        "            self.ns = 0.511\n",
        "        if self.Rotor_Bob == 2:\n",
        "            self.ns = 1.009\n",
        "        if self.Rotor_Bob == 3:\n",
        "            self.ns = 2.045\n",
        "        if self.Rotor_Bob == 4:\n",
        "            self.ns = 4.092\n",
        "        return self.ns\n"
      ],
      "metadata": {
        "id": "RP-TroEp19xn"
      },
      "execution_count": null,
      "outputs": []
    },
    {
      "cell_type": "markdown",
      "source": [
        "\n",
        "\n",
        "*   Cálculo da tensão de cisalhamento real:\n",
        "\n",
        "\n"
      ],
      "metadata": {
        "id": "GKPEgk8Q4OiN"
      }
    },
    {
      "cell_type": "code",
      "source": [
        "    def count_naprezenie_styczne_rzecz (self):\n",
        "        for i in range(len(self.kąt)):\n",
        "            self.t.append(self.kąt[i] * self.ns * self.ks)\n",
        "        return self.t"
      ],
      "metadata": {
        "id": "yfPgQaHY3myr"
      },
      "execution_count": null,
      "outputs": []
    },
    {
      "cell_type": "markdown",
      "source": [
        "\n",
        "\n",
        "*   Cálculo da taxa de cisalhamento real:\n",
        "\n",
        "\n"
      ],
      "metadata": {
        "id": "7R4eQdOY4sxw"
      }
    },
    {
      "cell_type": "code",
      "source": [
        "    def count_szybkosc_scinania_rzecz (self):\n",
        "        for i in range(len(self.obr)):\n",
        "            self.y.append(self.obr[i]*self.yl)\n",
        "        return self.y"
      ],
      "metadata": {
        "id": "HwyMxoJd4kCh"
      },
      "execution_count": null,
      "outputs": []
    },
    {
      "cell_type": "markdown",
      "source": [
        "* Cálculo da viscosidade aparente de líquidos:\n",
        "\n"
      ],
      "metadata": {
        "id": "jadwoycY44VS"
      }
    },
    {
      "cell_type": "code",
      "source": [
        "    def count_lepkosc_poz_rzecz (self):\n",
        "        for i in range(len(self.t)):\n",
        "            self.f.append(self.t[i] / self.y[i])\n",
        "        return self.f\n"
      ],
      "metadata": {
        "id": "D2uL0Rew43F-"
      },
      "execution_count": null,
      "outputs": []
    },
    {
      "cell_type": "markdown",
      "source": [
        "* Cálculo da viscosidade plástica de Newton:"
      ],
      "metadata": {
        "id": "feuXx7We5Hi9"
      }
    },
    {
      "cell_type": "code",
      "source": [
        "    def lepkosc_dynamiczna_newtona (self):\n",
        "        self.l=sum((fnct.multlist(self.t,self.y)))/sum((fnct.listexp(self.y)))\n",
        "        return self.l"
      ],
      "metadata": {
        "id": "65OtE8jX5Pd5"
      },
      "execution_count": null,
      "outputs": []
    },
    {
      "cell_type": "markdown",
      "source": [
        "* Cálculo de valores para o gráfico para o modelo de Newton:"
      ],
      "metadata": {
        "id": "Oxq5izNW5ZrW"
      }
    },
    {
      "cell_type": "code",
      "source": [
        "    def model_newtona_wart(self):\n",
        "        self.mn = list(map(lambda x: x*self.l,self.y))\n",
        "        return self.mn"
      ],
      "metadata": {
        "id": "dL14QF755Y4k"
      },
      "execution_count": null,
      "outputs": []
    },
    {
      "cell_type": "markdown",
      "source": [
        "* Cálculo da viscosidade plástica Bingham:"
      ],
      "metadata": {
        "id": "PAj65N0_5v4q"
      }
    },
    {
      "cell_type": "code",
      "source": [
        "    def lepkosc_plastyczna_binghama (self):\n",
        "        self.lb = ((len(self.kat)*(sum(fnct.multlist(self.t,self.y)))) - sum(self.y) * sum(self.t)) /\\\n",
        "                  ((len(self.kat) * sum(fnct.listexp(self.y)) - (sum(self.y)) ** 2))\n",
        "        return self.lb"
      ],
      "metadata": {
        "id": "YI6X-o8p5wbx"
      },
      "execution_count": null,
      "outputs": []
    },
    {
      "cell_type": "markdown",
      "source": [
        "* Cálculo da tensão de escoamento para o modelo de Bingham:"
      ],
      "metadata": {
        "id": "prPQWWwD5-Fh"
      }
    },
    {
      "cell_type": "code",
      "source": [
        "    def granica_plyniecia (self):\n",
        "        self.ty=(sum(self.t)-(self.lb*sum(self.y)))/(len(self.kąt))\n",
        "        return self.ty"
      ],
      "metadata": {
        "id": "PIoadEnK5-qz"
      },
      "execution_count": null,
      "outputs": []
    },
    {
      "cell_type": "markdown",
      "source": [
        "* Cálculo de valores para o gráfico do modelo de Bingham:"
      ],
      "metadata": {
        "id": "ox8uLWJb6U_T"
      }
    },
    {
      "cell_type": "code",
      "source": [
        "    def model_binghama_wartosci(self):\n",
        "        self.mb =list(map(lambda x: x*self.lb + self.ty,self.y))\n",
        "        return self.mb"
      ],
      "metadata": {
        "id": "hXX6V6M86Vcg"
      },
      "execution_count": null,
      "outputs": []
    },
    {
      "cell_type": "markdown",
      "source": [
        "* Cálculo do fator de forma para o modelo Ostwald:"
      ],
      "metadata": {
        "id": "ngTLzSv56fU3"
      }
    },
    {
      "cell_type": "code",
      "source": [
        "    def wspl_ksztaltu_0dw(self):\n",
        "        self.no = ((len(self.kat)*sum(fnct.multlist(fnct.lnlist(self.y),fnct.lnlist(self.t))))-\n",
        "                   (sum(fnct.lnlist(self.y))*sum(fnct.lnlist(self.t))))/\\\n",
        "                  ((len(self.kat)*sum(fnct.multlita(fnct.lnlist(self.y)))-(sum(fnct.lnlist(self.y)))**2))\n",
        "        return self.no"
      ],
      "metadata": {
        "id": "73Yjow4F6gGU"
      },
      "execution_count": null,
      "outputs": []
    },
    {
      "cell_type": "markdown",
      "source": [
        "* Cálculo do coeficiente de consistência para o modelo de Ostwald:"
      ],
      "metadata": {
        "id": "EsdDp5jZ63Lw"
      }
    },
    {
      "cell_type": "code",
      "source": [
        "    def wspl_konsystencji_0dw(self):\n",
        "        self.k = math.exp((sum(fnct.lnlist(self.t))-self.no*sum(fnct.lnlist(self.y)))/len(self.kat))\n",
        "        return self.k"
      ],
      "metadata": {
        "id": "KPPhV2nB63sj"
      },
      "execution_count": null,
      "outputs": []
    },
    {
      "cell_type": "markdown",
      "source": [
        "* Cálculo de valores para o gráfico do modelo Ostwald:"
      ],
      "metadata": {
        "id": "zTFMOqDX7lrS"
      }
    },
    {
      "cell_type": "code",
      "source": [
        "    def model_odw_wartosci(self):\n",
        "        self.modw = fnct.explist(list(map(lambda x: x*self.no + math.log(self.k),fnct.lnlist(self.y))))\n",
        "        return self.modw"
      ],
      "metadata": {
        "id": "KTP33iT_7kUw"
      },
      "execution_count": null,
      "outputs": []
    },
    {
      "cell_type": "markdown",
      "source": [
        "* Cálculo da viscosidade:"
      ],
      "metadata": {
        "id": "ccQym56T743I"
      }
    },
    {
      "cell_type": "code",
      "source": [
        "    def lepkosc_cassona(self):\n",
        "        self.fcas = (((len(self.kat)*sum(fnct.multlist(fnct.sqrtlist(self.y),fnct.sqrtlist(self.t))))- \\\n",
        "                     (sum(fnct.sqrtlist(self.y))*sum(fnct.sqrtlist(self.t))))/\\\n",
        "                    ((len(self.kat)*sum(fnct.multlita(fnct.sqrtlist(self.y)))) - ((sum(fnct.sqrtlist(self.y)))**2)))**2\n",
        "        return self.fcas"
      ],
      "metadata": {
        "id": "v1SpKj-975XA"
      },
      "execution_count": null,
      "outputs": []
    },
    {
      "cell_type": "markdown",
      "source": [
        "* Cálculo do limite de fluxo do modelo de Casson:"
      ],
      "metadata": {
        "id": "beclLhnm8OBA"
      }
    },
    {
      "cell_type": "code",
      "source": [
        "    def granica_plyniecia_Cassona(self):\n",
        "        self.tyc = ((sum(fnct.sqrtlist(self.t))-(math.sqrt(self.fcas)*sum(fnct.sqrtlist((self.y)))))/len(self.kat))**2\n",
        "        return self.tyc"
      ],
      "metadata": {
        "id": "sBoufMG48O7V"
      },
      "execution_count": null,
      "outputs": []
    },
    {
      "cell_type": "markdown",
      "source": [
        "* Cálculo de valores para o gráfico do modelo de Casson:"
      ],
      "metadata": {
        "id": "yiDC6jhd8cts"
      }
    },
    {
      "cell_type": "code",
      "source": [
        "    def model_cassona_wartosci(self):\n",
        "        self.modc = fnct.multlita(list(map(lambda x : x*math.sqrt(self.fcas)+ \\\n",
        "                                                     math.sqrt(self.tyc),fnct.sqrtlist(self.y))))\n",
        "        return self.modc"
      ],
      "metadata": {
        "id": "fyuGa81s8ZFc"
      },
      "execution_count": null,
      "outputs": []
    },
    {
      "cell_type": "markdown",
      "source": [
        "* Função a partir da qual contamos o zero:"
      ],
      "metadata": {
        "id": "7-PCyKl18nrv"
      }
    },
    {
      "cell_type": "code",
      "source": [
        "    def gne(self,n):\n",
        "        return len(self.kat)*(sum(fnct.multlist(fnct.multlist(self.t,fnct.lnlist(self.y)),list(map(lambda x: x**n,self.y)))))-\\\n",
        "               sum(self.t)*sum(fnct.multlist(list(map(lambda x: x**n,self.y)),fnct.lnlist(self.y))) + \\\n",
        "               ((len(self.kat) * sum(fnct.multlist(self.t, (list(map(lambda x: x ** n, self.y)))))) - \\\n",
        "                (sum(self.t) * sum((list(map(lambda x: x ** n, self.y)))))) / ((len(self.kat) * sum((list(map(lambda x: x ** (2 * n), self.y))))) - \\\n",
        "                 (sum((list(map(lambda x: x ** n, self.y)))) * sum(list(map(lambda x: x ** n, self.y))))) * \\\n",
        "               ((sum((list(map(lambda x: x ** n, self.y)))) * (sum(fnct.multlist(list(map(lambda x: x ** n, self.y)), fnct.lnlist(self.y)))))- \\\n",
        "                (len(self.kat) * (sum(fnct.multlist(list(map(lambda x: x **(2 * n), self.y)), fnct.lnlist(self.y))))))\n"
      ],
      "metadata": {
        "id": "mf_81D5E8oP7"
      },
      "execution_count": null,
      "outputs": []
    },
    {
      "cell_type": "markdown",
      "source": [
        "* Módulo Bissecção:"
      ],
      "metadata": {
        "id": "VZb2zDHL8wKl"
      }
    },
    {
      "cell_type": "code",
      "source": [
        "    def bisekcja(self):\n",
        "        self.n = optimize.bisect(self.gne, 0.00001, 10)\n",
        "        if 0 < self.n < 100:\n",
        "            return self.n\n",
        "        else:\n",
        "            return 'invalid result'"
      ],
      "metadata": {
        "id": "goNF5XZA8wdz"
      },
      "execution_count": null,
      "outputs": []
    },
    {
      "cell_type": "markdown",
      "source": [
        "*  Cálculo de coeficiente de consistência Herschel Bulkley:"
      ],
      "metadata": {
        "id": "GH1BCL-492EE"
      }
    },
    {
      "cell_type": "code",
      "source": [
        "    def wspolczynnik_konsytencji_HB(self):\n",
        "        self.khb = (len(self.kat) * sum(fnct.multlist(self.t,list(map(lambda x: x**self.n, self.y)))) - sum(self.t)* sum(list(map(lambda x: x**self.n,self.y))))/ \\\n",
        "                    (len(self.kat)* sum(list(map(lambda x: x**(2*self.n),self.y))) - sum(list(map(lambda x: x**self.n,self.y))) * sum(list(map(lambda x: x**self.n,self.y))))\n",
        "        return self.khb"
      ],
      "metadata": {
        "id": "D0dAdB4d92bo"
      },
      "execution_count": null,
      "outputs": []
    },
    {
      "cell_type": "markdown",
      "source": [
        "* Calculando a tensão de escoamento do modelo Herschel Bulkley:"
      ],
      "metadata": {
        "id": "c4mgXoFj-MXb"
      }
    },
    {
      "cell_type": "code",
      "source": [
        "    def granica_plyniecia_HB(self):\n",
        "        self.tyhb = (sum(self.t) - self.khb * sum(list(map(lambda x: x**self.n, self.y))))/ len(self.kat)\n",
        "        return self.tyhb"
      ],
      "metadata": {
        "id": "B_ZZbqPE-M1K"
      },
      "execution_count": null,
      "outputs": []
    },
    {
      "cell_type": "markdown",
      "source": [
        "* Cálculo de valores para o modelo Herschel Bulkley:"
      ],
      "metadata": {
        "id": "2pHstVsW-o6v"
      }
    },
    {
      "cell_type": "code",
      "source": [
        "    def model_H_B_wartosci(self):\n",
        "        self.modhb = list(map(lambda x : x**self.n * self.khb + self.tyhb, self.y))\n",
        "        return self.modhb"
      ],
      "metadata": {
        "id": "TL0Nf1-z-pg-"
      },
      "execution_count": null,
      "outputs": []
    },
    {
      "cell_type": "markdown",
      "source": [
        "* Cálculo do coeficiente de correlação para o modelo Newtoniano:"
      ],
      "metadata": {
        "id": "RzTQtDpQ-z1Q"
      }
    },
    {
      "cell_type": "code",
      "source": [
        "    def wspl_korelacji_N(self):\n",
        "        if sum(fnct.multlita(fnct.minuslist(self.t,self.mn))) == 0 or sum(fnct.multlita(fnct.mlist(self.t, numpy.average(self.t)))) == 0 or 1 - sum(fnct.multlita(fnct.minuslist(self.t,self.mn)))/sum(fnct.multlita(fnct.mlist(self.t, numpy.average(self.t)))) < 0:\n",
        "            self.RN = 0\n",
        "            return str('Too low correlation')\n",
        "        else:\n",
        "            self.RN = math.sqrt(1 - sum(fnct.multlita(fnct.minuslist(self.t,self.mn)))/sum(fnct.multlita(fnct.mlist(self.t, numpy.average(self.t)))))\n",
        "            return round(self.RN,6)"
      ],
      "metadata": {
        "id": "57BfUMb8-0T7"
      },
      "execution_count": null,
      "outputs": []
    },
    {
      "cell_type": "markdown",
      "source": [
        "* Cálculo do coeficiente de correlação para o modelo de Bingham:\n",
        "\n"
      ],
      "metadata": {
        "id": "b-jAeEj1_AQa"
      }
    },
    {
      "cell_type": "code",
      "source": [
        "    def wspl_korelacji_B(self):\n",
        "        if sum(fnct.multlita(fnct.minuslist(self.t,self.mb))) == 0 or sum(fnct.multlita(fnct.mlist(self.t, numpy.average(self.t)))) == 0 or 1 - sum(fnct.multlita(fnct.minuslist(self.t,self.mb)))/sum(fnct.multlita(fnct.mlist(self.t, numpy.average(self.t)))) < 0:\n",
        "            self.RB = 0\n",
        "            return str('Too low correlation')\n",
        "        else:\n",
        "            self.RB = math.sqrt(1 - sum(fnct.multlita(fnct.minuslist(self.t,self.mb)))/sum(fnct.multlita(fnct.mlist(self.t, numpy.average(self.t)))))\n",
        "            return round(self.RB,6)"
      ],
      "metadata": {
        "id": "9K6azDsH_A68"
      },
      "execution_count": null,
      "outputs": []
    },
    {
      "cell_type": "markdown",
      "source": [
        "* Cálculo do coeficiente de correlação para o modelo de Ostwald:"
      ],
      "metadata": {
        "id": "HyeMGCin_tTM"
      }
    },
    {
      "cell_type": "code",
      "source": [
        "    def wspl_korelacji_odw(self):\n",
        "        if sum(fnct.multlita(fnct.minuslist(self.t,self.modw))) == 0 or sum(fnct.multlita(fnct.mlist(self.t, numpy.average(self.t)))) == 0 or 1 - sum(fnct.multlita(fnct.minuslist(self.t,self.modw)))/sum(fnct.multlita(fnct.mlist(self.t, numpy.average(self.t)))) < 0:\n",
        "            self.Rodw = 0\n",
        "            return str('Too low correlation')\n",
        "        else:\n",
        "            self.Rodw = math.sqrt(1 - sum(fnct.multlita(fnct.minuslist(self.t,self.modw)))/sum(fnct.multlita(fnct.mlist(self.t, numpy.average(self.t)))))\n",
        "            return round(self.Rodw,6)\n"
      ],
      "metadata": {
        "id": "yEKZlNDc_t6h"
      },
      "execution_count": null,
      "outputs": []
    },
    {
      "cell_type": "markdown",
      "source": [
        "* Cálculo do coeficiente de correlação para o modelo de Casson:"
      ],
      "metadata": {
        "id": "Bh43Jeg0AJPf"
      }
    },
    {
      "cell_type": "code",
      "source": [
        "    def wspl_korelacji_cass(self):\n",
        "        if sum(fnct.multlita(fnct.minuslist(self.t,self.modc))) == 0 or sum(fnct.multlita(fnct.mlist(self.t, numpy.average(self.t)))) == 0 or 1 - sum(fnct.multlita(fnct.minuslist(self.t,self.modc)))/sum(fnct.multlita(fnct.mlist(self.t, numpy.average(self.t)))) < 0:\n",
        "            self.RC = 0\n",
        "            return ('Too low correlation')\n",
        "        else:\n",
        "            self.RC = math.sqrt(1 - sum(fnct.multlita(fnct.minuslist(self.t,self.modc)))/sum(fnct.multlita(fnct.mlist(self.t, numpy.average(self.t)))))\n",
        "            return round(self.RC,6)"
      ],
      "metadata": {
        "id": "sA-g0c_QAJzs"
      },
      "execution_count": null,
      "outputs": []
    },
    {
      "cell_type": "markdown",
      "source": [
        "* Cálculo do coeficiente de correlação para o modelo Herschel Bulkley:"
      ],
      "metadata": {
        "id": "NOeOV7ZsBFqK"
      }
    },
    {
      "cell_type": "code",
      "source": [
        "    def wspl_korelacji_hb(self):\n",
        "        if sum(fnct.multlita(fnct.minuslist(self.t,self.modhb))) == 0 or sum(fnct.multlita(fnct.mlist(self.t, numpy.average(self.t)))) == 0 or 1 - sum(fnct.multlita(fnct.minuslist(self.t,self.modhb)))/sum(fnct.multlita(fnct.mlist(self.t, numpy.average(self.t)))) < 0:\n",
        "            self.Rhb = 0\n",
        "            return ('Too low correlation')\n",
        "        else:\n",
        "            self.Rhb = math.sqrt(1 - sum(fnct.multlita(fnct.minuslist(self.t,self.modhb)))/sum(fnct.multlita(fnct.mlist(self.t, numpy.average(self.t)))))\n",
        "            return round(self.Rhb,6)"
      ],
      "metadata": {
        "id": "j4OuDH5zBGJ1"
      },
      "execution_count": null,
      "outputs": []
    },
    {
      "cell_type": "markdown",
      "source": [
        "* Para definir o modelo de melhor ajuste:"
      ],
      "metadata": {
        "id": "k454j6UGBdpm"
      }
    },
    {
      "cell_type": "code",
      "source": [
        "    def dopasowanie(self):                     #dopasowanie = ajuste\n",
        "        if max(self.RN,self.RB,self.Rodw,self.RC,self.Rhb) <= 0.70:\n",
        "            return 'None of the models provide an acceptable level of fit'\n",
        "        if max(self.RN,self.RB,self.Rodw,self.RC,self.Rhb) == self.RN:\n",
        "            return 'Newtons model'\n",
        "        if max(self.RN,self.RB,self.Rodw,self.RC,self.Rhb) == self.RB:\n",
        "            return 'Model Bingham'\n",
        "        if max(self.RN,self.RB,self.Rodw,self.RC,self.Rhb) == self.Rodw:\n",
        "            return 'Model Ostwald de Waele'\n",
        "        if max(self.RN,self.RB,self.Rodw,self.RC,self.Rhb) == self.RC:\n",
        "            return 'Model Casson'\n",
        "        if max(self.RN,self.RB,self.Rodw,self.RC,self.Rhb) == self.Rhb:\n",
        "            return 'Model Herschel - Bulkley'\n",
        "        else:\n",
        "            return 'An error occured'"
      ],
      "metadata": {
        "id": "ufpMLeNFBehC"
      },
      "execution_count": null,
      "outputs": []
    },
    {
      "cell_type": "markdown",
      "source": [
        "* Calcula os valores para o gráfico para o modelo de Newton:"
      ],
      "metadata": {
        "id": "zfZ3qNlmCSHT"
      }
    },
    {
      "cell_type": "code",
      "source": [
        "    def wykres_newton(self):                    # wykres = Gráfico\n",
        "        return list(map(lambda x: x * self.l, numpy.arange(0, 1050, 10)))"
      ],
      "metadata": {
        "id": "L3Q1zHOWCERf"
      },
      "execution_count": null,
      "outputs": []
    },
    {
      "cell_type": "markdown",
      "source": [
        "* Calcula valores para o gráfico do modelo Bingham:"
      ],
      "metadata": {
        "id": "xU3XMQifCZ1P"
      }
    },
    {
      "cell_type": "code",
      "source": [
        "    def wykres_bingham(self):\n",
        "        return list(map(lambda x: x * self.lb + self.ty, numpy.arange(0, 1050, 10)))"
      ],
      "metadata": {
        "id": "DfSWPmKsCaZB"
      },
      "execution_count": null,
      "outputs": []
    },
    {
      "cell_type": "markdown",
      "source": [
        "* Calcula os valores para o gráfico do modelo Ostwald:"
      ],
      "metadata": {
        "id": "gMk9n2OjCrid"
      }
    },
    {
      "cell_type": "code",
      "source": [
        "    def wykres_odw(self):\n",
        "        return fnct.explist(list(map(lambda x: x * self.no + math.log(self.k), fnct.lnlist(numpy.arange(1, 1050, 10)))))\n"
      ],
      "metadata": {
        "id": "0SQlQUxfCsLs"
      },
      "execution_count": null,
      "outputs": []
    },
    {
      "cell_type": "markdown",
      "source": [
        "* Calcula valores para o grafo do modelo de Casson:\n",
        "\n"
      ],
      "metadata": {
        "id": "d6APN9UfC1Wo"
      }
    },
    {
      "cell_type": "code",
      "source": [
        "    def wykres_casson(self):\n",
        "        return fnct.multlita(list(map(lambda x: x * math.sqrt(self.fcas) + \\\n",
        "                                                math.sqrt(self.tyc), fnct.sqrtlist(numpy.arange(0, 1050, 10)))))\n"
      ],
      "metadata": {
        "id": "tA9OBXobC1_q"
      },
      "execution_count": null,
      "outputs": []
    },
    {
      "cell_type": "markdown",
      "source": [
        "* Calcula os valores para o gráfico do modelo Herschel - Bulkley:"
      ],
      "metadata": {
        "id": "ArHPwfR5DaTO"
      }
    },
    {
      "cell_type": "code",
      "source": [
        "    def wykres_hb(self):\n",
        "        return list(map(lambda x: x ** self.n * self.khb + self.tyhb, numpy.arange(0, 1050, 10)))"
      ],
      "metadata": {
        "id": "FnsSlTVKDaqq"
      },
      "execution_count": null,
      "outputs": []
    },
    {
      "cell_type": "markdown",
      "source": [
        "* Gráfico de taxa de cisalhamento x tensão de cisalhamento:       \n"
      ],
      "metadata": {
        "id": "P7g3qZZNEKUL"
      }
    },
    {
      "cell_type": "code",
      "source": [
        "class wykres:\n",
        "  def __init__(self):\n",
        "    print(\"Endereco do self= \", id(self))"
      ],
      "metadata": {
        "id": "DuD4Yl1oGzmG"
      },
      "execution_count": null,
      "outputs": []
    },
    {
      "cell_type": "code",
      "source": [
        "obj = wykres()\n",
        "print(\"Endereco do self: \", id(obj))"
      ],
      "metadata": {
        "colab": {
          "base_uri": "https://localhost:8080/"
        },
        "id": "VxCMRCzkEK6v",
        "outputId": "fabbec16-6ad2-4a5a-e1b2-95ffdb92f7cb"
      },
      "execution_count": null,
      "outputs": [
        {
          "output_type": "stream",
          "name": "stdout",
          "text": [
            "Endereco do self=  140718989736928\n",
            "Endereco do self:  140718989736928\n"
          ]
        }
      ]
    },
    {
      "cell_type": "code",
      "source": [
        "    def wykres(self):                     #erro para mostrar a imagem do grafico"
      ],
      "metadata": {
        "colab": {
          "base_uri": "https://localhost:8080/",
          "height": 132
        },
        "id": "DqQ5qEqeEbab",
        "outputId": "9548cf93-5ac3-405c-bf21-fec7c2a62db5"
      },
      "execution_count": null,
      "outputs": [
        {
          "output_type": "error",
          "ename": "SyntaxError",
          "evalue": "ignored",
          "traceback": [
            "\u001b[0;36m  File \u001b[0;32m\"<ipython-input-223-5c56caba62dc>\"\u001b[0;36m, line \u001b[0;32m1\u001b[0m\n\u001b[0;31m    def wykres(self):\u001b[0m\n\u001b[0m                                   ^\u001b[0m\n\u001b[0;31mSyntaxError\u001b[0m\u001b[0;31m:\u001b[0m incomplete input\n"
          ]
        }
      ]
    },
    {
      "cell_type": "code",
      "source": [
        "        fig = go.Figure()\n",
        "        fig.add_trace(go.Scatter(x=self.y, y=self.t,\n",
        "                                 mode='markers', name='Punkty pomiarowe'))\n",
        "        fig.add_trace(go.Scatter(x=numpy.arange(0,1050,10), y=self.wykres_newton(),\n",
        "                                 mode='linhas',\n",
        "                                 name='Newtons model',line_shape='spline'))\n",
        "        fig.add_trace(go.Scatter(x=numpy.arange(0,1050,10), y=self.wykres_bingham(),\n",
        "                                 mode='linhas',\n",
        "                                 name='Model Bingham',line_shape='spline'))\n",
        "        fig.add_trace(go.Scatter(x=numpy.arange(0,1050,10), y=self.wykres_odw(),\n",
        "                                 mode='linhas', name='Model Ostwalda de Waele',line_shape='spline'))\n",
        "        fig.add_trace(go.Scatter(x=numpy.arange(0,1050,10), y=self.wykres_casson(),\n",
        "                                 mode='linhas', name='Model Casson',line_shape='spline'))\n",
        "        fig.add_trace(go.Scatter(x=numpy.arange(0,1050,10), y=self.wykres_hb(),\n",
        "                                 mode='linhas', name='Model Herschel - Bulkley',line_shape='spline'))\n",
        "\n",
        "        fig.update_layout(title='Modelos correspondentes',\n",
        "                          xaxis_title='Shear rate [1/s]',\n",
        "                          yaxis_title='Shear stress[Pa]')\n",
        "\n",
        "        div = opy.plot(fig,auto_open= False,output_type='div')\n",
        "\n",
        "        return div\n"
      ],
      "metadata": {
        "colab": {
          "base_uri": "https://localhost:8080/",
          "height": 236
        },
        "id": "swk5Xwu8EoJo",
        "outputId": "fb0d3b02-48a8-4751-a663-70b598a901b5"
      },
      "execution_count": null,
      "outputs": [
        {
          "output_type": "error",
          "ename": "NameError",
          "evalue": "ignored",
          "traceback": [
            "\u001b[0;31m---------------------------------------------------------------------------\u001b[0m",
            "\u001b[0;31mNameError\u001b[0m                                 Traceback (most recent call last)",
            "\u001b[0;32m<ipython-input-224-dcc67b7ea06a>\u001b[0m in \u001b[0;36m<cell line: 2>\u001b[0;34m()\u001b[0m\n\u001b[1;32m      1\u001b[0m \u001b[0mfig\u001b[0m \u001b[0;34m=\u001b[0m \u001b[0mgo\u001b[0m\u001b[0;34m.\u001b[0m\u001b[0mFigure\u001b[0m\u001b[0;34m(\u001b[0m\u001b[0;34m)\u001b[0m\u001b[0;34m\u001b[0m\u001b[0;34m\u001b[0m\u001b[0m\n\u001b[0;32m----> 2\u001b[0;31m fig.add_trace(go.Scatter(x=self.y, y=self.t,\n\u001b[0m\u001b[1;32m      3\u001b[0m                          mode='markers', name='Punkty pomiarowe'))\n\u001b[1;32m      4\u001b[0m fig.add_trace(go.Scatter(x=numpy.arange(0,1050,10), y=self.wykres_newton(),\n\u001b[1;32m      5\u001b[0m                          \u001b[0mmode\u001b[0m\u001b[0;34m=\u001b[0m\u001b[0;34m'linhas'\u001b[0m\u001b[0;34m,\u001b[0m\u001b[0;34m\u001b[0m\u001b[0;34m\u001b[0m\u001b[0m\n",
            "\u001b[0;31mNameError\u001b[0m: name 'self' is not defined"
          ]
        }
      ]
    },
    {
      "cell_type": "code",
      "source": [
        "        if form.is_valid():\n",
        "\n",
        "            kąty = form.cleaned_data['kąty']\n",
        "            lst_angles = list(map(int,kąty.split(\",\")))\n",
        "            uklad_cylindrów_RB = form.cleaned_data['uklad_cylindrów_RB']\n",
        "            typ_sprężyny = form.cleaned_data['typ_sprężyny']\n",
        "            rodzaj_cylindra_wewnętrznego = form.cleaned_data['rodzaj_cylindra_wewnętrznego']\n",
        "\n",
        "            x = REO(lst_angles,uklad_cylindrów_RB,typ_sprężyny,rodzaj_cylindra_wewnętrznego)\n",
        "\n",
        "            x.rodzaj_cilindra()\n",
        "            x.stala_spr()\n",
        "            x.obroty()\n",
        "            x.szybkosc_scinania_rz()\n",
        "            katy =lst_angles\n",
        "            szybkosc_scinania =[round(x,6) for x in x.count_szybkosc_scinania_rzecz()]\n",
        "            naprezenia_styczne = [round(x,6) for x in x.count_naprezenie_styczne_rzecz()]\n",
        "            lepkosc_pozorna = [round(x,6) for x in x.count_lepkosc_poz_rzecz()]\n",
        "            lepkosc_dym_newtona = round(x.lepkosc_dynamiczna_newtona(),6)\n",
        "            x.model_newtona_wart()\n",
        "            wspł_korelacji_newtona = x.wspl_korelacji_N()\n",
        "            lepkosc_plastyczna_b = round(x.lepkosc_plastyczna_binghama(),6)\n",
        "            granica_plyniencia_b = round(x.granica_plyniecia(),6)\n",
        "            x.model_binghama_wartosci()\n",
        "            wspl_korelacji_binghama = x.wspl_korelacji_B()\n",
        "            wspl_ksztaltu_odw = round(x.wspl_ksztaltu_0dw(),6)\n",
        "            wspl_konsystencji_odw = round(x.wspl_konsystencji_0dw(),6)\n",
        "            x.model_odw_wartosci()\n",
        "            wspl_korelacji_odw = x.wspl_korelacji_odw()\n",
        "            lepkosc_cassona = round(x.lepkosc_cassona(),6)\n",
        "            granica_plny_cassona = round(x.granica_plyniecia_Cassona(),6)\n",
        "            x.model_cassona_wartosci()\n",
        "            wspl_korelacji_cassona = x.wspl_korelacji_cass()\n",
        "            wspl_ksztaltu_hb = round(x.bisekcja(),6)\n",
        "            wspl_konsystencji_hb = round(x.wspolczynnik_konsytencji_HB(),6)\n",
        "            granica_plyn_hb = round(x.granica_plyniecia_HB(),6)\n",
        "            x.model_H_B_wartosci()\n",
        "            wspl_korelacji_hb = x.wspl_korelacji_hb()\n",
        "            dopasowanie = x.dopasowanie()\n",
        "            wykres = x.wykres()\n",
        "            return render(request, 'kalkulator/test.v01.html', {'katy': katy,\n",
        "                                                                'szybkosc_scinania':szybkosc_scinania,\n",
        "                                                                'naprezenia_styczne':naprezenia_styczne,\n",
        "                                                                'lepkosc_pozorna':lepkosc_pozorna,\n",
        "                                                                'lepkosc_dym_newtona':lepkosc_dym_newtona,\n",
        "                                                                'wspł_korelacji_newtona':wspł_korelacji_newtona,\n",
        "                                                                'lepkosc_plastyczna_b':lepkosc_plastyczna_b,\n",
        "                                                                'granica_plyniencia_b':granica_plyniencia_b,\n",
        "                                                                'wspl_korelacji_binghama':wspl_korelacji_binghama,\n",
        "                                                                'wspl_ksztaltu_odw': wspl_ksztaltu_odw,\n",
        "                                                                'wspl_konsystencji_odw':wspl_konsystencji_odw,\n",
        "                                                                'wspl_korelacji_odw':wspl_korelacji_odw,\n",
        "                                                                'lepkosc_cassona':lepkosc_cassona,\n",
        "                                                                'granica_plny_cassona':granica_plny_cassona,\n",
        "                                                                'wspl_korelacji_cassona':wspl_korelacji_cassona,\n",
        "                                                                'wspl_ksztaltu_hb':wspl_ksztaltu_hb,\n",
        "                                                                'granica_plyn_hb':granica_plyn_hb,\n",
        "                                                                'wspl_konsystencji_hb':wspl_konsystencji_hb,\n",
        "                                                                'wspl_korelacji_hb':wspl_korelacji_hb,\n",
        "                                                                'dopasowanie':dopasowanie,\n",
        "                                                                'wykres':wykres,})\n",
        "\n",
        "\n",
        "\n",
        "    return render(request,'kalkulator/imput form.html',{'form':InputDataForm})"
      ],
      "metadata": {
        "colab": {
          "base_uri": "https://localhost:8080/",
          "height": 132
        },
        "id": "xuNj197TgV55",
        "outputId": "d256f9d8-714b-47b7-c86f-faf1a639f066"
      },
      "execution_count": null,
      "outputs": [
        {
          "output_type": "error",
          "ename": "SyntaxError",
          "evalue": "ignored",
          "traceback": [
            "\u001b[0;36m  File \u001b[0;32m\"<ipython-input-199-b53ef08e7411>\"\u001b[0;36m, line \u001b[0;32m41\u001b[0m\n\u001b[0;31m    return render(request, 'kalkulator/test.v01.html', {'katy': katy,\u001b[0m\n\u001b[0m    ^\u001b[0m\n\u001b[0;31mSyntaxError\u001b[0m\u001b[0;31m:\u001b[0m 'return' outside function\n"
          ]
        }
      ]
    }
  ]
}